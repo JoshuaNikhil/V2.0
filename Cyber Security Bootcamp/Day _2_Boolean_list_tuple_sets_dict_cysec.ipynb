{
  "nbformat": 4,
  "nbformat_minor": 0,
  "metadata": {
    "kernelspec": {
      "display_name": "Python 3",
      "language": "python",
      "name": "python3"
    },
    "language_info": {
      "codemirror_mode": {
        "name": "ipython",
        "version": 3
      },
      "file_extension": ".py",
      "mimetype": "text/x-python",
      "name": "python",
      "nbconvert_exporter": "python",
      "pygments_lexer": "ipython3",
      "version": "3.7.3"
    },
    "colab": {
      "name": "Day _2_Boolean_list_tuple_sets_dict_cysec.ipynb",
      "provenance": [],
      "toc_visible": true,
      "include_colab_link": true
    }
  },
  "cells": [
    {
      "cell_type": "markdown",
      "metadata": {
        "id": "view-in-github",
        "colab_type": "text"
      },
      "source": [
        "<a href=\"https://colab.research.google.com/github/JoshuaNikhil/V2.0/blob/master/Cyber%20Security%20Bootcamp/Day%20_2_Boolean_list_tuple_sets_dict_cysec.ipynb\" target=\"_parent\"><img src=\"https://colab.research.google.com/assets/colab-badge.svg\" alt=\"Open In Colab\"/></a>"
      ]
    },
    {
      "cell_type": "markdown",
      "metadata": {
        "id": "ufQesqCiWZkL"
      },
      "source": [
        "<h1>LIST:</h1>\n"
      ]
    },
    {
      "cell_type": "code",
      "metadata": {
        "id": "1SKugPDXWZkO"
      },
      "source": [
        "subjects = ['History', 'Math', 'Physics', 'CS']"
      ],
      "execution_count": null,
      "outputs": []
    },
    {
      "cell_type": "code",
      "metadata": {
        "id": "aUWYCDybWZkP",
        "outputId": "960eab41-de45-4ed2-a325-1e6b1dce880d"
      },
      "source": [
        "print(subjects) \n",
        "#Prints all the elements of the list"
      ],
      "execution_count": null,
      "outputs": [
        {
          "output_type": "stream",
          "text": [
            "['History', 'Math', 'Physics', 'CS']\n"
          ],
          "name": "stdout"
        }
      ]
    },
    {
      "cell_type": "code",
      "metadata": {
        "id": "7DGXL4VBWZkR",
        "outputId": "cdcd8f64-567a-426d-9ecb-48268bd969c0"
      },
      "source": [
        "print(len(subjects))\n",
        "#Prints number of elements in list"
      ],
      "execution_count": null,
      "outputs": [
        {
          "output_type": "stream",
          "text": [
            "4\n"
          ],
          "name": "stdout"
        }
      ]
    },
    {
      "cell_type": "code",
      "metadata": {
        "id": "V4cz2CmDWZkR",
        "outputId": "d2ee1995-222a-41be-e862-d5c78a8dc8d5"
      },
      "source": [
        "print(subjects[0])\n",
        "#Prints the 1st element (History)"
      ],
      "execution_count": null,
      "outputs": [
        {
          "output_type": "stream",
          "text": [
            "History\n"
          ],
          "name": "stdout"
        }
      ]
    },
    {
      "cell_type": "code",
      "metadata": {
        "id": "Z17qL5RfWZkS",
        "outputId": "54a9a227-d8ea-4c95-ddd7-ab0415cf1d58"
      },
      "source": [
        "print(subjects[-1])\n",
        "#Prints the last element (History)"
      ],
      "execution_count": null,
      "outputs": [
        {
          "output_type": "stream",
          "text": [
            "CS\n"
          ],
          "name": "stdout"
        }
      ]
    },
    {
      "cell_type": "code",
      "metadata": {
        "id": "jmC9a2weWZkT",
        "outputId": "7895a4a7-a400-4c9d-e767-572611f59f59"
      },
      "source": [
        "print(subjects[:2])\n",
        "#Prints the 1st & 2nd element (History)\n",
        "print(subjects[:2])"
      ],
      "execution_count": null,
      "outputs": [
        {
          "output_type": "stream",
          "text": [
            "['History', 'Math']\n",
            "['History', 'Math']\n"
          ],
          "name": "stdout"
        }
      ]
    },
    {
      "cell_type": "code",
      "metadata": {
        "id": "LgET7v_rWZkT",
        "outputId": "dc34bf43-f83a-4579-ded9-2ceb15d0797d"
      },
      "source": [
        "subjects.append('DS')\n",
        "#Adds the item at the end of the list\n",
        "print(subjects)"
      ],
      "execution_count": null,
      "outputs": [
        {
          "output_type": "stream",
          "text": [
            "['History', 'Math', 'Physics', 'CS', 'DS']\n"
          ],
          "name": "stdout"
        }
      ]
    },
    {
      "cell_type": "code",
      "metadata": {
        "id": "bn1_N4U5WZkU",
        "outputId": "4538102b-2e92-450d-d774-f21ffe4a5d38"
      },
      "source": [
        "subjects.insert(0,'DBMS')\n",
        "#Adds the item at index 0\n",
        "print(subjects)"
      ],
      "execution_count": null,
      "outputs": [
        {
          "output_type": "stream",
          "text": [
            "['DBMS', 'History', 'Math', 'Physics', 'CS', 'DS']\n"
          ],
          "name": "stdout"
        }
      ]
    },
    {
      "cell_type": "code",
      "metadata": {
        "id": "sALfuKubWZkV"
      },
      "source": [
        "subjects_2 = ['Art', 'Design', 'Chemistry']"
      ],
      "execution_count": null,
      "outputs": []
    },
    {
      "cell_type": "code",
      "metadata": {
        "id": "gOon9TI4WZkV"
      },
      "source": [
        "#subjects.insert(0,subjects_2)\n",
        "#print(subjects)\n",
        "#Let's try to add elements of subject_2 to subjects\n",
        "#it got added as a seperate list in element 0, rather than splitting the items in subject_2 then adding them"
      ],
      "execution_count": null,
      "outputs": []
    },
    {
      "cell_type": "code",
      "metadata": {
        "id": "Zb3Prl-VWZkW",
        "outputId": "71b084bd-cf94-4e8f-f168-3c8aff667da3"
      },
      "source": [
        "subjects.extend(subjects_2)\n",
        "print(subjects)\n",
        "#Adds each element seperately to subject_2 at the end of the list"
      ],
      "execution_count": null,
      "outputs": [
        {
          "output_type": "stream",
          "text": [
            "['DBMS', 'History', 'Math', 'Physics', 'CS', 'DS', 'Art', 'Design', 'Chemistry']\n"
          ],
          "name": "stdout"
        }
      ]
    },
    {
      "cell_type": "code",
      "metadata": {
        "id": "9Itd2GvJWZkW",
        "outputId": "f4ab91c1-2c21-48c4-f2c4-a0872788b31c"
      },
      "source": [
        "subjects.remove('Math')\n",
        "#Finds & Removes Math from the list\n",
        "print(subjects)"
      ],
      "execution_count": null,
      "outputs": [
        {
          "output_type": "stream",
          "text": [
            "['DBMS', 'History', 'Physics', 'CS', 'DS', 'Art', 'Design', 'Chemistry']\n"
          ],
          "name": "stdout"
        }
      ]
    },
    {
      "cell_type": "code",
      "metadata": {
        "id": "pxfP4KooWZkX",
        "outputId": "92c69bb2-2d0e-448f-fa77-9d24b122d72c"
      },
      "source": [
        "popped = subjects.pop()\n",
        "#Removes the last item in the list\n",
        "\n",
        "print(subjects)\n",
        "\n",
        "print(popped)\n",
        "#Grabs the popped item"
      ],
      "execution_count": null,
      "outputs": [
        {
          "output_type": "stream",
          "text": [
            "['DBMS', 'History', 'Physics', 'CS', 'DS', 'Art', 'Design']\n",
            "Chemistry\n"
          ],
          "name": "stdout"
        }
      ]
    },
    {
      "cell_type": "code",
      "metadata": {
        "id": "mlizpwlJWZkX",
        "outputId": "574e4618-9d4c-47d5-9048-364130bacbbd"
      },
      "source": [
        "subjects.reverse()\n",
        "#Reverses the list\n",
        "print(subjects)"
      ],
      "execution_count": null,
      "outputs": [
        {
          "output_type": "stream",
          "text": [
            "['Design', 'Art', 'DS', 'CS', 'Physics', 'History', 'DBMS']\n"
          ],
          "name": "stdout"
        }
      ]
    },
    {
      "cell_type": "code",
      "metadata": {
        "id": "ocQvyZR9WZkY",
        "outputId": "852fdf52-8ae1-4994-8041-3f3cdf6b0aa0"
      },
      "source": [
        "subjects.sort()\n",
        "#Sorts the list in alphabetical order\n",
        "print(subjects)\n",
        "\n",
        "num_list = [2,6,4,5,3,1]\n",
        "num_list.sort()\n",
        "print(num_list)"
      ],
      "execution_count": null,
      "outputs": [
        {
          "output_type": "stream",
          "text": [
            "['Art', 'CS', 'DBMS', 'DS', 'Design', 'History', 'Physics']\n",
            "[1, 2, 3, 4, 5, 6]\n"
          ],
          "name": "stdout"
        }
      ]
    },
    {
      "cell_type": "code",
      "metadata": {
        "id": "bW-MFA7kWZkY",
        "outputId": "000e7e9c-e89f-4e12-8106-e05f332b7ac6"
      },
      "source": [
        "print(min(num_list))\n",
        "print(max(num_list))\n",
        "print(sum(num_list))"
      ],
      "execution_count": null,
      "outputs": [
        {
          "output_type": "stream",
          "text": [
            "1\n",
            "6\n",
            "21\n"
          ],
          "name": "stdout"
        }
      ]
    },
    {
      "cell_type": "code",
      "metadata": {
        "id": "ao0O2MAiWZkZ",
        "outputId": "8e8904ef-5c16-4a68-9a19-743c75d45282"
      },
      "source": [
        "print(subjects.index('CS'))\n",
        "#Returns the index value of the item"
      ],
      "execution_count": null,
      "outputs": [
        {
          "output_type": "stream",
          "text": [
            "1\n"
          ],
          "name": "stdout"
        }
      ]
    },
    {
      "cell_type": "code",
      "metadata": {
        "id": "nIVeIECXWZkZ",
        "outputId": "818bb5a5-d6e7-401e-8e5e-5b3b26882269"
      },
      "source": [
        "print('Art' in subjects)\n",
        "#Checks weather the item is present in the list or not"
      ],
      "execution_count": null,
      "outputs": [
        {
          "output_type": "stream",
          "text": [
            "True\n"
          ],
          "name": "stdout"
        }
      ]
    },
    {
      "cell_type": "code",
      "metadata": {
        "id": "NLGvKEqQWZkZ",
        "outputId": "c8dd153f-8c49-4862-e5ce-9f070786be26"
      },
      "source": [
        "for item in subjects:\n",
        "    print(item)\n",
        "#Prints each item in new line    "
      ],
      "execution_count": null,
      "outputs": [
        {
          "output_type": "stream",
          "text": [
            "Art\n",
            "CS\n",
            "DBMS\n",
            "DS\n",
            "Design\n",
            "History\n",
            "Physics\n"
          ],
          "name": "stdout"
        }
      ]
    },
    {
      "cell_type": "code",
      "metadata": {
        "id": "CuMEE5b-WZka",
        "outputId": "93a56bd1-d4f7-4bd6-f10e-fa2bc3877a6d"
      },
      "source": [
        "for index,subject in enumerate(subjects):\n",
        "    print(index,subject)\n",
        "#Print the items along with index numbers starting from 0. this is done by enumerate() function"
      ],
      "execution_count": null,
      "outputs": [
        {
          "output_type": "stream",
          "text": [
            "0 Art\n",
            "1 CS\n",
            "2 DBMS\n",
            "3 DS\n",
            "4 Design\n",
            "5 History\n",
            "6 Physics\n"
          ],
          "name": "stdout"
        }
      ]
    },
    {
      "cell_type": "code",
      "metadata": {
        "id": "dnRQqCKzWZka",
        "outputId": "cfa175eb-40e1-4501-e60f-19ca3b594981"
      },
      "source": [
        "for index,subject in enumerate(subjects,start=1):\n",
        "    print(index, subject)\n",
        "#Print the items along with index numbers starting from 1. this is done by enumerate() function"
      ],
      "execution_count": null,
      "outputs": [
        {
          "output_type": "stream",
          "text": [
            "1 Art\n",
            "2 CS\n",
            "3 DBMS\n",
            "4 DS\n",
            "5 Design\n",
            "6 History\n",
            "7 Physics\n"
          ],
          "name": "stdout"
        }
      ]
    },
    {
      "cell_type": "code",
      "metadata": {
        "id": "PEEUslxLWZkb",
        "outputId": "f8ef0baf-6ff8-4c90-f795-1ec80fd99046"
      },
      "source": [
        "subject_str = ' - '.join(subjects)\n",
        "print(subject_str)\n",
        "#turns list into '-' seperated string"
      ],
      "execution_count": null,
      "outputs": [
        {
          "output_type": "stream",
          "text": [
            "Art - CS - DBMS - DS - Design - History - Physics\n"
          ],
          "name": "stdout"
        }
      ]
    },
    {
      "cell_type": "code",
      "metadata": {
        "id": "3VDcschLWZkb",
        "outputId": "83740b47-ced3-4821-c6f8-a4d4febeb1a0"
      },
      "source": [
        "new_list = subject_str.split('-')\n",
        "print(new_list)\n",
        "#Creates the list, just reverse of .join()"
      ],
      "execution_count": null,
      "outputs": [
        {
          "output_type": "stream",
          "text": [
            "['Art ', ' CS ', ' DBMS ', ' DS ', ' Design ', ' History ', ' Physics']\n"
          ],
          "name": "stdout"
        }
      ]
    },
    {
      "cell_type": "markdown",
      "metadata": {
        "id": "yKvquBpvWZkc"
      },
      "source": [
        "\n",
        "\n",
        "<h1>Tuple: </h1>\n",
        "Doesn't have much supported functions as of list because tuple is immutable"
      ]
    },
    {
      "cell_type": "code",
      "metadata": {
        "id": "3-yZrPy2WZkc"
      },
      "source": [
        "tup_1 = ('History', 'Math', 'Physics', 'CS')"
      ],
      "execution_count": null,
      "outputs": []
    },
    {
      "cell_type": "code",
      "metadata": {
        "id": "BPRG6sv_WZkd",
        "outputId": "37a205cf-dd4b-418d-dea4-1f0fa6327712"
      },
      "source": [
        "tup_1[0] = 'Art'"
      ],
      "execution_count": null,
      "outputs": [
        {
          "output_type": "error",
          "ename": "TypeError",
          "evalue": "'tuple' object does not support item assignment",
          "traceback": [
            "\u001b[1;31m---------------------------------------------------------------------------\u001b[0m",
            "\u001b[1;31mTypeError\u001b[0m                                 Traceback (most recent call last)",
            "\u001b[1;32m<ipython-input-25-20f41ff68d0f>\u001b[0m in \u001b[0;36m<module>\u001b[1;34m\u001b[0m\n\u001b[1;32m----> 1\u001b[1;33m \u001b[0mtup_1\u001b[0m\u001b[1;33m[\u001b[0m\u001b[1;36m0\u001b[0m\u001b[1;33m]\u001b[0m \u001b[1;33m=\u001b[0m \u001b[1;34m'Art'\u001b[0m\u001b[1;33m\u001b[0m\u001b[1;33m\u001b[0m\u001b[0m\n\u001b[0m",
            "\u001b[1;31mTypeError\u001b[0m: 'tuple' object does not support item assignment"
          ]
        }
      ]
    },
    {
      "cell_type": "code",
      "metadata": {
        "id": "0WDWDeYSWZkd",
        "outputId": "60990f1e-60e4-4975-b7ad-ce3e8db900cb"
      },
      "source": [
        "print(tup_1)"
      ],
      "execution_count": null,
      "outputs": [
        {
          "output_type": "stream",
          "text": [
            "('History', 'Math', 'Physics', 'CS')\n"
          ],
          "name": "stdout"
        }
      ]
    },
    {
      "cell_type": "code",
      "metadata": {
        "id": "6sPFuQmoWZkd"
      },
      "source": [
        "#Only supports that functions that doesn't mutate the list"
      ],
      "execution_count": null,
      "outputs": []
    },
    {
      "cell_type": "markdown",
      "metadata": {
        "id": "DiG98zRLWZke"
      },
      "source": [
        "\n",
        "\n",
        "\n",
        "<h1>SETS: </h1>\n",
        "Doesn't care about order & dumps away duplicate item\n"
      ]
    },
    {
      "cell_type": "code",
      "metadata": {
        "id": "-ThuesDtWZke"
      },
      "source": [
        "cs_courses = {'DS','DBMS','History','Math','Physics'}"
      ],
      "execution_count": null,
      "outputs": []
    },
    {
      "cell_type": "code",
      "metadata": {
        "id": "uBMH2lloWZke"
      },
      "source": [
        "#Changes order every time the code executes"
      ],
      "execution_count": null,
      "outputs": []
    },
    {
      "cell_type": "code",
      "metadata": {
        "id": "KXAL44rtWZkf",
        "outputId": "581b973c-b2cc-43f6-fd46-b0277d0a2c73"
      },
      "source": [
        "print('Math' in cs_courses)\n",
        "#Checks membership in the set"
      ],
      "execution_count": null,
      "outputs": [
        {
          "output_type": "stream",
          "text": [
            "True\n"
          ],
          "name": "stdout"
        }
      ]
    },
    {
      "cell_type": "code",
      "metadata": {
        "id": "SP_HJaQlWZkf"
      },
      "source": [
        "art_courses = {'History','Math','Art','Design'}"
      ],
      "execution_count": null,
      "outputs": []
    },
    {
      "cell_type": "code",
      "metadata": {
        "id": "5_WjxWHZWZkf",
        "outputId": "78303c38-d816-432d-e092-ef4f8d203aab"
      },
      "source": [
        "print(cs_courses.intersection(art_courses))\n",
        "#Returns common items in both sets"
      ],
      "execution_count": null,
      "outputs": [
        {
          "output_type": "stream",
          "text": [
            "{'Math', 'History'}\n"
          ],
          "name": "stdout"
        }
      ]
    },
    {
      "cell_type": "code",
      "metadata": {
        "id": "cWmUEoe5WZki",
        "outputId": "4035a1a1-d926-4791-912b-0b874520a1a3"
      },
      "source": [
        "print(cs_courses.difference(art_courses))\n",
        "\n",
        "#Returns the items not present in second set"
      ],
      "execution_count": null,
      "outputs": [
        {
          "output_type": "stream",
          "text": [
            "{'DS', 'DBMS', 'Physics'}\n"
          ],
          "name": "stdout"
        }
      ]
    },
    {
      "cell_type": "code",
      "metadata": {
        "id": "pnVjAWLGWZki",
        "outputId": "222ea587-2cbb-4758-a331-49e129cf959e"
      },
      "source": [
        "print(cs_courses.union(art_courses))\n",
        "\n",
        "#Prints all the items from both sets dropping the duplicate items in a new set"
      ],
      "execution_count": null,
      "outputs": [
        {
          "output_type": "stream",
          "text": [
            "{'Math', 'History', 'Physics', 'DS', 'Design', 'Art', 'DBMS'}\n"
          ],
          "name": "stdout"
        }
      ]
    },
    {
      "cell_type": "code",
      "metadata": {
        "id": "6QR9WCTGWZki"
      },
      "source": [
        "#Empty List\n",
        "empty_list = []\n",
        "empty_list = list()"
      ],
      "execution_count": null,
      "outputs": []
    },
    {
      "cell_type": "code",
      "metadata": {
        "id": "b_cVGEe1WZkj"
      },
      "source": [
        "#Empty Tuples\n",
        "empty_tuple = ()\n",
        "empty_tuple = tuple()"
      ],
      "execution_count": null,
      "outputs": []
    },
    {
      "cell_type": "code",
      "metadata": {
        "id": "Fnue6RtTWZkj"
      },
      "source": [
        "#Empty sets\n",
        "empty_set = {} #This will create an empty dictionary instead of empty sets\n",
        "empty_set = set()"
      ],
      "execution_count": null,
      "outputs": []
    },
    {
      "cell_type": "markdown",
      "metadata": {
        "id": "CNvNMZ8hWZkj"
      },
      "source": [
        "\n",
        "\n",
        "\n",
        "# Dictionary:-\n",
        "\n",
        "#### Playing with Key:Value pairs"
      ]
    },
    {
      "cell_type": "code",
      "metadata": {
        "id": "T9KbEIPkWZkj"
      },
      "source": [
        "student = {'name':'harsh', 'age':25, 'course':['Math','Physics']}"
      ],
      "execution_count": 1,
      "outputs": []
    },
    {
      "cell_type": "code",
      "metadata": {
        "id": "pEF0znGjWZkk",
        "outputId": "c50ae2cd-ebf3-4b12-aa89-6002624864eb",
        "colab": {
          "base_uri": "https://localhost:8080/"
        }
      },
      "source": [
        "print(student) \n",
        "#prints dictionary with keys & values"
      ],
      "execution_count": 2,
      "outputs": [
        {
          "output_type": "stream",
          "text": [
            "{'name': 'harsh', 'age': 25, 'course': ['Math', 'Physics']}\n"
          ],
          "name": "stdout"
        }
      ]
    },
    {
      "cell_type": "code",
      "metadata": {
        "id": "st4cG0X2WZkk",
        "outputId": "e2b55176-0dcd-409f-d41a-46bd10a10e2b",
        "colab": {
          "base_uri": "https://localhost:8080/"
        }
      },
      "source": [
        "print(student['name'])\n",
        "#Prints values of specified key & gives error on the absence of the key"
      ],
      "execution_count": 3,
      "outputs": [
        {
          "output_type": "stream",
          "text": [
            "harsh\n"
          ],
          "name": "stdout"
        }
      ]
    },
    {
      "cell_type": "code",
      "metadata": {
        "id": "Mjfilr-1WZkk",
        "outputId": "19e965ce-9522-4c16-a086-7d1fac2e0970",
        "colab": {
          "base_uri": "https://localhost:8080/"
        }
      },
      "source": [
        "print(student.get('phone'))\n",
        "#Prints values of specified key & doesn't gives error on the absence of the key"
      ],
      "execution_count": 4,
      "outputs": [
        {
          "output_type": "stream",
          "text": [
            "None\n"
          ],
          "name": "stdout"
        }
      ]
    },
    {
      "cell_type": "code",
      "metadata": {
        "id": "mw0Ym4PvWZkl",
        "outputId": "a31f8cb7-dcb6-446e-99d9-57515cc879eb",
        "colab": {
          "base_uri": "https://localhost:8080/"
        }
      },
      "source": [
        "#Let's add a phone no to our dictionary\n",
        "student['phone'] = '999-9999'\n",
        "print(student)"
      ],
      "execution_count": 5,
      "outputs": [
        {
          "output_type": "stream",
          "text": [
            "{'name': 'harsh', 'age': 25, 'course': ['Math', 'Physics'], 'phone': '999-9999'}\n"
          ],
          "name": "stdout"
        }
      ]
    },
    {
      "cell_type": "code",
      "metadata": {
        "id": "5Vby1GSjWZkl",
        "outputId": "09477820-ff55-4b46-e703-6bf0167fe2bc",
        "colab": {
          "base_uri": "https://localhost:8080/"
        }
      },
      "source": [
        "student['name'] = 'akshit'\n",
        "print(student)\n",
        "#update a key\n"
      ],
      "execution_count": 6,
      "outputs": [
        {
          "output_type": "stream",
          "text": [
            "{'name': 'akshit', 'age': 25, 'course': ['Math', 'Physics'], 'phone': '999-9999'}\n"
          ],
          "name": "stdout"
        }
      ]
    },
    {
      "cell_type": "code",
      "metadata": {
        "id": "er_B1-xNWZkl",
        "outputId": "cbb76497-76af-46b2-fed2-367816706a36",
        "colab": {
          "base_uri": "https://localhost:8080/"
        }
      },
      "source": [
        "#Updating various keys in a single line of code\n",
        "\n",
        "student.update({'name':'harsh',\n",
        "               'age': 21,\n",
        "               'phone': '111-1111'})\n",
        "print(student)"
      ],
      "execution_count": 7,
      "outputs": [
        {
          "output_type": "stream",
          "text": [
            "{'name': 'harsh', 'age': 21, 'course': ['Math', 'Physics'], 'phone': '111-1111'}\n"
          ],
          "name": "stdout"
        }
      ]
    },
    {
      "cell_type": "code",
      "metadata": {
        "id": "-CKjFUrnWZkl",
        "outputId": "a063d816-e9b8-4995-dd4f-a000457949f8",
        "colab": {
          "base_uri": "https://localhost:8080/"
        }
      },
      "source": [
        "#Prints keys from the dictionary\n",
        "\n",
        "print(student.keys())"
      ],
      "execution_count": 8,
      "outputs": [
        {
          "output_type": "stream",
          "text": [
            "dict_keys(['name', 'age', 'course', 'phone'])\n"
          ],
          "name": "stdout"
        }
      ]
    },
    {
      "cell_type": "code",
      "metadata": {
        "id": "BlRw8jMKWZkm",
        "outputId": "f7b50f28-8a61-4f40-fa07-29c2c0454d60",
        "colab": {
          "base_uri": "https://localhost:8080/"
        }
      },
      "source": [
        "#Prints valuess from the dictionary\n",
        "\n",
        "print(student.values())"
      ],
      "execution_count": 9,
      "outputs": [
        {
          "output_type": "stream",
          "text": [
            "dict_values(['harsh', 21, ['Math', 'Physics'], '111-1111'])\n"
          ],
          "name": "stdout"
        }
      ]
    },
    {
      "cell_type": "code",
      "metadata": {
        "id": "PQ3Z6fMpWZkm",
        "outputId": "641dfc0f-a760-4fab-f90f-679c3ea8f3d0",
        "colab": {
          "base_uri": "https://localhost:8080/"
        }
      },
      "source": [
        "#Iterates and prints only keys from the dictionary\n",
        "\n",
        "for key in student:\n",
        "    print(key)"
      ],
      "execution_count": 10,
      "outputs": [
        {
          "output_type": "stream",
          "text": [
            "name\n",
            "age\n",
            "course\n",
            "phone\n"
          ],
          "name": "stdout"
        }
      ]
    }
  ]
}